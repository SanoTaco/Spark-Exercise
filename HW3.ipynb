{
 "cells": [
  {
   "cell_type": "markdown",
   "metadata": {},
   "source": [
    "# 103590450 四資三 馬茂源\n",
    "## Programming Exercise: MapReduce\n",
    "* Goal: A MapReduce program for analyzing the check-in records\n",
    "\n",
    "        Input: Check-in records in social networking site foursquare\n",
    "        Check-in records: <user_id, venue_id, checkin_time>\n",
    "        Venues: <venue_id, category, latitude, longitude>\n",
    "\n",
    "* Output: analysis results (to be detailed later)\n",
    "* WARNING: sudo pip3 install geopy"
   ]
  },
  {
   "cell_type": "code",
   "execution_count": 1,
   "metadata": {
    "collapsed": false
   },
   "outputs": [],
   "source": [
    "import findspark\n",
    "findspark.init()\n",
    "import pyspark, time\n",
    "from operator import add\n",
    "from datetime import datetime\n",
    "from geopy.geocoders import Nominatim\n",
    "sc = pyspark.SparkContext()\n",
    "geolocator = Nominatim()"
   ]
  },
  {
   "cell_type": "code",
   "execution_count": 2,
   "metadata": {
    "collapsed": true
   },
   "outputs": [],
   "source": [
    "def row_split(string):\n",
    "    items = string.split(',')[1:]\n",
    "    return (items[0], ' '.join(items[1:]))"
   ]
  },
  {
   "cell_type": "markdown",
   "metadata": {},
   "source": [
    "## Load file"
   ]
  },
  {
   "cell_type": "code",
   "execution_count": 3,
   "metadata": {
    "collapsed": true
   },
   "outputs": [],
   "source": [
    "checking_local_dedup = sc.textFile('4sq_data/checking_local_dedup.txt')\n",
    "local_place = sc.textFile('4sq_data/local_place.txt')\n",
    "venue_info = sc.textFile('4sq_data/venue_info.txt')"
   ]
  },
  {
   "cell_type": "markdown",
   "metadata": {},
   "source": [
    "## Lists the top checked-in venues (most popular)"
   ]
  },
  {
   "cell_type": "code",
   "execution_count": 4,
   "metadata": {
    "collapsed": false
   },
   "outputs": [
    {
     "name": "stdout",
     "output_type": "stream",
     "text": [
      "time:8.63\n"
     ]
    }
   ],
   "source": [
    "ts = time.time()\n",
    "checking_place_id = checking_local_dedup.map(lambda venues : (venues.split(',')[1], 1)) \\\n",
    "                                        .reduceByKey(lambda x, y: x+y)\n",
    "    \n",
    "place_name = local_place.map(row_split).reduceByKey(lambda x, y: ' '.join([x,y]))\n",
    "\n",
    "d = checking_place_id.leftOuterJoin(place_name)\n",
    "result1= d.sortBy(lambda x: x[1][0], ascending=False)\n",
    "print('time:%.2f'%(time.time()-ts))\n"
   ]
  },
  {
   "cell_type": "code",
   "execution_count": 5,
   "metadata": {
    "collapsed": false
   },
   "outputs": [
    {
     "data": {
      "text/plain": [
       "[('4b0bd124f964a520e03323e3', (23790, '<Changi International Airport (SIN)>')),\n",
       " ('4c775cda93faa093a2c5f0fb', (10870, '<Cineleisure Orchard>')),\n",
       " ('4b058818f964a520a7b122e3', (9649, '<VivoCity>')),\n",
       " ('4b08e700f964a520421323e3', (8578, '<ION Orchard>')),\n",
       " ('4b5da988f964a520ae6529e3', (8454, '<nex>')),\n",
       " ('50874d10e4b0fa42fc6cc568', (6902, '<ITE College Central>')),\n",
       " ('4b058817f964a5203eb122e3', (6796, '<Jurong Point>')),\n",
       " ('4bb9c1a6935e9521d3512790', (6469, '<Bugis Junction>')),\n",
       " ('4b058815f964a520afb022e3', (6277, '<Plaza Singapura>')),\n",
       " ('4b189466f964a52049d423e3', (6259, '<313@Somerset>'))]"
      ]
     },
     "execution_count": 5,
     "metadata": {},
     "output_type": "execute_result"
    }
   ],
   "source": [
    "result1.take(10)"
   ]
  },
  {
   "cell_type": "markdown",
   "metadata": {},
   "source": [
    "## Lists the most popular categories"
   ]
  },
  {
   "cell_type": "code",
   "execution_count": 6,
   "metadata": {
    "collapsed": true
   },
   "outputs": [],
   "source": [
    "def row_split2(line):\n",
    "    items = line.split(',')[:-2]\n",
    "    return (items[0], ' '.join(items[1:]))"
   ]
  },
  {
   "cell_type": "code",
   "execution_count": 7,
   "metadata": {
    "collapsed": false
   },
   "outputs": [
    {
     "name": "stdout",
     "output_type": "stream",
     "text": [
      "time:8.41\n"
     ]
    }
   ],
   "source": [
    "ts = time.time()\n",
    "categories =venue_info.map(row_split2) \\\n",
    "                        .distinct() \\\n",
    "                        .join(result1) \\\n",
    "                        .map(lambda item:(item[1][0], item[1][1][0])) \\\n",
    "                        .reduceByKey(add) \\\n",
    "                        .sortBy(lambda item: item[1], ascending = False)\n",
    "print('time:%.2f'%(time.time()-ts))\n"
   ]
  },
  {
   "cell_type": "code",
   "execution_count": 8,
   "metadata": {
    "collapsed": false
   },
   "outputs": [
    {
     "data": {
      "text/plain": [
       "[('Mall', 200240),\n",
       " ('Train Station', 57643),\n",
       " ('Coffee Shop', 51816),\n",
       " ('Café', 48711),\n",
       " ('Food Court', 47332),\n",
       " ('Home (private)', 45151),\n",
       " ('Building', 44447),\n",
       " ('Asian Restaurant', 41370),\n",
       " ('General College & University', 35717),\n",
       " ('General Entertainment', 35349)]"
      ]
     },
     "execution_count": 8,
     "metadata": {},
     "output_type": "execute_result"
    }
   ],
   "source": [
    "categories.take(10)"
   ]
  },
  {
   "cell_type": "markdown",
   "metadata": {},
   "source": [
    "## Lists the top checked-in users"
   ]
  },
  {
   "cell_type": "code",
   "execution_count": 9,
   "metadata": {
    "collapsed": false
   },
   "outputs": [
    {
     "name": "stdout",
     "output_type": "stream",
     "text": [
      "time:5.36\n"
     ]
    }
   ],
   "source": [
    "ts = time.time()\n",
    "user = checking_local_dedup.map(lambda line : (line.split(',')[0], 1)) \\\n",
    "                             .reduceByKey(add) \\\n",
    "                             .sortBy(lambda item: item[1], ascending=False)\n",
    "print('time:%.2f'%(time.time()-ts))        \n"
   ]
  },
  {
   "cell_type": "code",
   "execution_count": 10,
   "metadata": {
    "collapsed": false
   },
   "outputs": [
    {
     "data": {
      "text/plain": [
       "[('23116182', 10013),\n",
       " ('942443', 6737),\n",
       " ('5295751', 4369),\n",
       " ('15852099', 4284),\n",
       " ('5406597', 4176),\n",
       " ('951387', 4138),\n",
       " ('5488934', 4125),\n",
       " ('10057162', 4034),\n",
       " ('4706660', 4021),\n",
       " ('8355536', 3707)]"
      ]
     },
     "execution_count": 10,
     "metadata": {},
     "output_type": "execute_result"
    }
   ],
   "source": [
    "user.take(10)"
   ]
  },
  {
   "cell_type": "markdown",
   "metadata": {},
   "source": [
    "##  Lists the most popular time for check-ins \n",
    "### (in time slots in hours, for example, 7:00-8:00 or 18:00-19:00)\n"
   ]
  },
  {
   "cell_type": "code",
   "execution_count": 11,
   "metadata": {
    "collapsed": true
   },
   "outputs": [],
   "source": [
    "def convert_stamp(line):\n",
    "    stamp = line.split(',')[-1]\n",
    "    time = int(datetime.utcfromtimestamp(float(stamp)).strftime('%H'))\n",
    "    return ('%2d:00~%2d:00'%(time, time+1), 1)"
   ]
  },
  {
   "cell_type": "code",
   "execution_count": 12,
   "metadata": {
    "collapsed": false
   },
   "outputs": [
    {
     "name": "stdout",
     "output_type": "stream",
     "text": [
      "time:8.51\n"
     ]
    }
   ],
   "source": [
    "ts = time.time()\n",
    "checkin_time = checking_local_dedup.map(convert_stamp) \\\n",
    "                                   .reduceByKey(add) \\\n",
    "                                   .sortBy(lambda item: item[1], ascending=False)\n",
    "print('time:%.2f'%(time.time()-ts)) "
   ]
  },
  {
   "cell_type": "code",
   "execution_count": 13,
   "metadata": {
    "collapsed": false
   },
   "outputs": [
    {
     "data": {
      "text/plain": [
       "[('11:00~12:00', 123743),\n",
       " ('10:00~11:00', 109244),\n",
       " ('12:00~13:00', 101916),\n",
       " (' 5:00~ 6:00', 93842),\n",
       " (' 9:00~10:00', 89397),\n",
       " (' 6:00~ 7:00', 89210),\n",
       " (' 4:00~ 5:00', 87843),\n",
       " (' 7:00~ 8:00', 85688),\n",
       " (' 8:00~ 9:00', 84058),\n",
       " ('13:00~14:00', 76449),\n",
       " (' 3:00~ 4:00', 67036),\n",
       " (' 2:00~ 3:00', 61943),\n",
       " ('14:00~15:00', 61167),\n",
       " (' 1:00~ 2:00', 59931),\n",
       " (' 0:00~ 1:00', 57657),\n",
       " ('15:00~16:00', 53826),\n",
       " ('23:00~24:00', 43781),\n",
       " ('16:00~17:00', 39566),\n",
       " ('17:00~18:00', 23073),\n",
       " ('22:00~23:00', 20765)]"
      ]
     },
     "execution_count": 13,
     "metadata": {},
     "output_type": "execute_result"
    }
   ],
   "source": [
    "checkin_time.take(20)"
   ]
  },
  {
   "cell_type": "markdown",
   "metadata": {},
   "source": [
    "## Optional functions \n",
    "* Using other attributes: latitude, longitude, …"
   ]
  },
  {
   "cell_type": "code",
   "execution_count": 14,
   "metadata": {
    "collapsed": true
   },
   "outputs": [],
   "source": [
    "def get_name(line):\n",
    "    latitude, longitude = line.split(',')[-2:]\n",
    "    return ('%s, %s'%(latitude, longitude), 1)"
   ]
  },
  {
   "cell_type": "code",
   "execution_count": 15,
   "metadata": {
    "collapsed": false
   },
   "outputs": [
    {
     "name": "stdout",
     "output_type": "stream",
     "text": [
      "time:3.79\n"
     ]
    }
   ],
   "source": [
    "ts = time.time()\n",
    "countries = venue_info.map(get_name) \\\n",
    "                      .reduceByKey(add) \\\n",
    "                      .sortBy(lambda item: item[1], ascending=False)\n",
    "print('time:%.2f'%(time.time()-ts)) "
   ]
  },
  {
   "cell_type": "code",
   "execution_count": 16,
   "metadata": {
    "collapsed": false
   },
   "outputs": [
    {
     "name": "stdout",
     "output_type": "stream",
     "text": [
      "Blk 106A, Punggol Field, Punggol, Northeast, Singapore [82]\n",
      "619, Walking Trail, Jurong West, Southwest, Singapore [74]\n",
      "Fengshan Primary School, 307, Bedok North Road, Bedok, Southeast, 469680, Singapore [72]\n",
      "288, Tampines Street 22, Northeast, 520288, Singapore [69]\n",
      "206B, Compassvale Drive, Sengkang, Northeast, Singapore [67]\n"
     ]
    }
   ],
   "source": [
    "for item in countries.take(5):\n",
    "    print('%s [%d]'%(geolocator.reverse(item[0]), item[1]))"
   ]
  },
  {
   "cell_type": "code",
   "execution_count": null,
   "metadata": {
    "collapsed": true
   },
   "outputs": [],
   "source": []
  }
 ],
 "metadata": {
  "kernelspec": {
   "display_name": "Python 3",
   "language": "python",
   "name": "python3"
  },
  "language_info": {
   "codemirror_mode": {
    "name": "ipython",
    "version": 3
   },
   "file_extension": ".py",
   "mimetype": "text/x-python",
   "name": "python",
   "nbconvert_exporter": "python",
   "pygments_lexer": "ipython3",
   "version": "3.5.1"
  }
 },
 "nbformat": 4,
 "nbformat_minor": 1
}
